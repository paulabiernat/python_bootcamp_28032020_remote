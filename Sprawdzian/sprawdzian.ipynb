{
 "cells": [
  {
   "cell_type": "markdown",
   "metadata": {},
   "source": [
    "imię: PAULINA \n",
    "\n",
    "nazwisko: BIERNAT"
   ]
  },
  {
   "cell_type": "markdown",
   "metadata": {},
   "source": [
    "### zad 1. \n",
    "\n",
    "Wymień znane Ci struktury danych w Pythonie. Które z nich są mutowalne a które nie?"
   ]
  },
  {
   "cell_type": "markdown",
   "metadata": {},
   "source": [
    "Mutowalne : listy, krotki, zbiory i słowniki\n",
    "Niemutowalne : stringi, tuple, int, float, bool"
   ]
  },
  {
   "cell_type": "markdown",
   "metadata": {},
   "source": [
    "### zad 2. \n",
    "\n",
    "Czy umiesz wytłumaczyć co to jest sekwencja? Jakie sekwencje znasz?"
   ]
  },
  {
   "cell_type": "markdown",
   "metadata": {},
   "source": [
    "Sekwencje jest to zbiór danych, ktore występują w określonym porządku. Do elementów w sekwencjach możemy się odwolac poprzez indeksy. np. listy, słowniki mogą przechowywać dane w sekwencjach. "
   ]
  },
  {
   "cell_type": "markdown",
   "metadata": {},
   "source": [
    "### zad 3.\n",
    "\n",
    "Wybierz co trzeci znak z napisu \"abrakadabra\". Przypisz go do zmiennej `tekst`"
   ]
  },
  {
   "cell_type": "code",
   "execution_count": null,
   "metadata": {},
   "outputs": [],
   "source": [
    "tekst = \"abrakadabra\"\n",
    "y = tekst[0::3]\n",
    "print(y)"
   ]
  },
  {
   "cell_type": "markdown",
   "metadata": {},
   "source": [
    "### zad 4.\n",
    "\n",
    "Zaprezentuj jak działa wyrażenie warunkowe. Postaraj się o przykład pokazujący wszystkie znane Ci aspekty wyrażenia warunkowego\n"
   ]
  },
  {
   "cell_type": "code",
   "execution_count": null,
   "metadata": {},
   "outputs": [],
   "source": [
    "x=20\n",
    "if x > 10:\n",
    "    print(\"wiekszy od 10\")\n",
    "elif x % 2 == 0:\n",
    "    print(\"parzysty\")\n",
    "elif x % 3 == 0:\n",
    "    print(\"podzielny przez 3\")\n",
    "else:\n",
    "    print(\"zaden warunek nie jest pelniony\")\n",
    "print(\"koniec\")"
   ]
  },
  {
   "cell_type": "markdown",
   "metadata": {},
   "source": [
    "### zad 5.\n",
    "\n",
    "Zaproponuj przykład użycia pętli `while`. Np. do odliczania od 10 do 0 z pomienięciem 5."
   ]
  },
  {
   "cell_type": "code",
   "execution_count": null,
   "metadata": {},
   "outputs": [],
   "source": [
    "x = 11\n",
    "while True:\n",
    "    x -=1\n",
    "    if x == 5:\n",
    "        continue\n",
    "    elif x<0:\n",
    "        break\n",
    "    \n",
    "    print(x)\n",
    "            "
   ]
  },
  {
   "cell_type": "markdown",
   "metadata": {},
   "source": [
    "### zad 6. \n",
    "\n",
    "Zaproponuj przykład użycia pętli `for`. W przykładzie użyj słownika i przeiteruj po elementach słownika (`items`)"
   ]
  },
  {
   "cell_type": "code",
   "execution_count": null,
   "metadata": {},
   "outputs": [],
   "source": [
    "elem = {\"2\": \"on\", \"0\":\"ona\", \"3\":\"kasia\"}\n",
    "for element in elem:\n",
    "    print(element)"
   ]
  },
  {
   "cell_type": "markdown",
   "metadata": {},
   "source": [
    "### zad 7.\n",
    "\n",
    "Zdefiniuj funkcję `power`, która przyjmie jeden lub dwa argumenty a i b. Argument b powinien przyjmować wartość domyślną tak, by poniższe wywałania miały sens:\n",
    "    \n",
    "    power(2, 3) == 8\n",
    "    power(4) == 16"
   ]
  },
  {
   "cell_type": "code",
   "execution_count": null,
   "metadata": {},
   "outputs": [],
   "source": [
    "def power(a,b= 2):\n",
    "    licz = a ** b\n",
    "    return licz\n",
    "\n",
    "print(power(2,3))\n",
    "print(power(4))\n",
    "    "
   ]
  },
  {
   "cell_type": "markdown",
   "metadata": {},
   "source": [
    "### zad 8. \n",
    "\n",
    "napisz funkcję, która przyjmie dowolną liczbę argumentów pozycyjnych i kluczowych i wypisze je na ekranie"
   ]
  },
  {
   "cell_type": "code",
   "execution_count": null,
   "metadata": {},
   "outputs": [],
   "source": [
    "def foo(*args, **kwargs):\n",
    "    print(\"Pozycyjnych: \", len(args))\n",
    "    print(\"Kluczowych: \", len(kwargs))\n",
    "\n",
    "\n",
    "foo(10, 20, a=1, b=2, c=3)"
   ]
  },
  {
   "cell_type": "markdown",
   "metadata": {},
   "source": [
    "### zad 9.\n",
    "\n",
    "Zdefiniuj klasę `Osoba`, która będzie reprezentowała osobę. Osoba posiada atrybuty name, last_name, birth_year\n",
    "posiada też atrybut dynamiczny - age, który wylicza wiek na podstawie aktualnego roku i birth_year. Skorzystaj z 'datetime'. Dodatkowo klasa ta powinna mieć metodę info, która wypisz imie, nazwisko i wiek\n",
    "\n",
    "    osoba = Osoba(\"Johny\", \"Bravo\", 2000)\n",
    "    assert osoba.age == 20\n",
    "    assert osoba.info == \"Johny Bravo (20)\"\n"
   ]
  },
  {
   "cell_type": "code",
   "execution_count": null,
   "metadata": {},
   "outputs": [],
   "source": [
    "import datetime\n",
    "\n",
    "class Osoba:\n",
    "\n",
    "    def __init__(self, name, last_name, birth_year):\n",
    "        self.name = name\n",
    "        self.last_name = last_name\n",
    "        self.birth_year = birth_year\n",
    "        self.age = datetime.datetime.now().year - birth_year\n",
    "        \n",
    "    @property\n",
    "    def informacje(self):\n",
    "        return f\"imie: {self.name}, nazwisko: {self.last_name}, wiek: {self.age}\"\n",
    "\n",
    "\n",
    "osoba = Osoba(\"Johny\", \"Bravo\", 2000)\n",
    "\n",
    "print(osoba.informacje)\n",
    "print(osoba.age)\n",
    "\n",
    "\n",
    "    "
   ]
  },
  {
   "cell_type": "markdown",
   "metadata": {},
   "source": [
    "### zad 10. \n",
    "\n",
    "Zdefiniuj klasę Student, która będzie dziedziczyć po klasie Osoba. Student w czasie tworzenia wymaga podania dodatkowego atrybutu - kierunek. W metodzie info należy rozszerzyć działanie metody info z klasy rodzica. Nie należy jednak całkowicie jej nadpisywać\n",
    "\n",
    "    student = Student(\"Johny\", \"Bravo\", 2000, \"physics\")\n",
    "    assert osoba.age == 20\n",
    "    assert osoba.info == \"Johny Bravo (20) - physics\""
   ]
  },
  {
   "cell_type": "code",
   "execution_count": null,
   "metadata": {},
   "outputs": [],
   "source": [
    "class Student:\n",
    "\n",
    "    def __init__(self, imie, nazwisko, rok_urodzenia, kierunek):\n",
    "        self.imie = imie\n",
    "        self.nazwisko = nazwisko\n",
    "        self.rok_urodzenia = rok_urodzenia\n",
    "        self.kierunek = kierunek\n",
    "        self.age = datetime.datetime.now().year - rok_urodzenia\n",
    "        "
   ]
  },
  {
   "cell_type": "code",
   "execution_count": null,
   "metadata": {},
   "outputs": [],
   "source": []
  }
 ],
 "metadata": {
  "kernelspec": {
   "display_name": "Python 3",
   "language": "python",
   "name": "python3"
  },
  "language_info": {
   "codemirror_mode": {
    "name": "ipython",
    "version": 3
   },
   "file_extension": ".py",
   "mimetype": "text/x-python",
   "name": "python",
   "nbconvert_exporter": "python",
   "pygments_lexer": "ipython3",
   "version": "3.8.0"
  }
 },
 "nbformat": 4,
 "nbformat_minor": 4
}
